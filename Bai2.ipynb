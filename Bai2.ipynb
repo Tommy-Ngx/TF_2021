{
  "nbformat": 4,
  "nbformat_minor": 0,
  "metadata": {
    "accelerator": "GPU",
    "colab": {
      "name": "Bai2.ipynb",
      "provenance": []
    },
    "kernelspec": {
      "display_name": "Python 3",
      "name": "python3"
    }
  },
  "cells": [
    {
      "cell_type": "code",
      "metadata": {
        "colab": {
          "base_uri": "https://localhost:8080/"
        },
        "id": "WSDtSlcDbFAV",
        "outputId": "46383e59-34ef-467f-8b19-c819633b8c3f"
      },
      "source": [
        "# TensorFlow and tf.keras\n",
        "import tensorflow as tf\n",
        "\n",
        "# Helper libraries\n",
        "import numpy as np\n",
        "import matplotlib.pyplot as plt\n",
        "\n",
        "print(tf.__version__)"
      ],
      "execution_count": 1,
      "outputs": [
        {
          "output_type": "stream",
          "text": [
            "2.4.1\n"
          ],
          "name": "stdout"
        }
      ]
    },
    {
      "cell_type": "code",
      "metadata": {
        "id": "3p174FfviX4L",
        "outputId": "9f40dc87-85c5-4124-c992-c8fa9e3e0042",
        "colab": {
          "base_uri": "https://localhost:8080/"
        }
      },
      "source": [
        "import os#\n",
        "if os.path.exists('/content/tommy')== False:  \n",
        "  os.mkdir('/content/tommy')\n",
        "!pip install ipython-autotime --quiet\n",
        "!apt install wget --quiet\n",
        "!apt install ffmpeg --quiet\n",
        "import datetime\n",
        "now = \"Done process at : \" + datetime.datetime.now().strftime(\"%Y-%m-%d %H:%M:%S\")\n",
        "print(now)\n",
        "%load_ext autotime"
      ],
      "execution_count": 26,
      "outputs": [
        {
          "output_type": "stream",
          "text": [
            "Reading package lists...\n",
            "Building dependency tree...\n",
            "Reading state information...\n",
            "wget is already the newest version (1.19.4-1ubuntu2.2).\n",
            "0 upgraded, 0 newly installed, 0 to remove and 30 not upgraded.\n",
            "Reading package lists...\n",
            "Building dependency tree...\n",
            "Reading state information...\n",
            "ffmpeg is already the newest version (7:3.4.8-0ubuntu0.2).\n",
            "0 upgraded, 0 newly installed, 0 to remove and 30 not upgraded.\n",
            "Done process at : 2021-03-21 07:02:07\n",
            "The autotime extension is already loaded. To reload it, use:\n",
            "  %reload_ext autotime\n",
            "time: 5.13 s (started: 2021-03-21 07:02:02 +00:00)\n"
          ],
          "name": "stdout"
        }
      ]
    },
    {
      "cell_type": "code",
      "metadata": {
        "id": "Nn9oIPa2VEuJ",
        "outputId": "6c18de6f-9e55-4e4f-9687-7942427fe416",
        "colab": {
          "base_uri": "https://localhost:8080/"
        }
      },
      "source": [
        "from tensorflow.keras.optimizers import Optimizer\n",
        "from tensorflow.keras import backend as K\n",
        "from tensorflow.python.ops import math_ops\n",
        "from tensorflow.python.ops import control_flow_ops\n",
        "from tensorflow.python.ops import state_ops\n",
        "from tensorflow.python.training import moving_averages\n",
        "\n",
        "import tensorflow as tf\n",
        "\n",
        "class AdasOptimizer(Optimizer):\n",
        "    \"\"\"\n",
        "    Introduction:\n",
        "        For the mathematical part see https://github.com/YanaiEliyahu/AdasOptimizer,\n",
        "        the `Theory` section contains the major innovation,\n",
        "        and then `How ADAS works` contains more low level details that are still somewhat related to the theory.\n",
        "    Compatibility:\n",
        "        Tested under tensorflow versions 1.5.4 and 2.3.1.\n",
        "    Arguments:\n",
        "        lr: float > 0. Initial learning rate that is per feature/input (e.g. dense layer with N inputs and M outputs, will have N learning rates).\n",
        "        lr2: float >= 0.  lr's Initial learning rate. (just ~1-2 per layer, additonal one because of bias)\n",
        "        lr3: float >= 0. lr2's fixed learning rate. (global)\n",
        "        beta_1: 0 < float < 1. Preferably close to 1. Second moments decay factor to update lr and lr2 weights.\n",
        "        beta_2: 0 < float < 1. Preferably close to 1. 1/(1 - beta_2) steps back in time that `lr`s will be optimized for, larger dataset might require more nines.\n",
        "        beta_3: 0 < float < 1. Preferably close to 1. Same as beta_2, but for `lr2`s.\n",
        "        epsilon: float >= 0. Fuzz factor. If `None`, defaults to `K.epsilon()`.\n",
        "    \"\"\"\n",
        "    def __init__(self,\n",
        "            lr = 0.001, lr2 = .005, lr3 = .0005,\n",
        "            beta_1 = 0.999, beta_2 = 0.999, beta_3 = 0.9999,\n",
        "            epsilon = None, **kwargs):\n",
        "        super(AdasOptimizer, self).__init__('Adas',**kwargs)\n",
        "        # TODO: use self._set_hyper and self._get_hyper\n",
        "        self._lr = lr\n",
        "        self._lr2 = lr2\n",
        "        self._lr3 = lr3\n",
        "        self._beta_1 = beta_1\n",
        "        self._beta_2 = beta_2\n",
        "        self._beta_3 = beta_3\n",
        "        if epsilon is None:\n",
        "            epsilon = K.epsilon()\n",
        "        self._epsilon = epsilon\n",
        "        self._tf1 = tf.__version__.split(\".\")[0] == '1'\n",
        "        if not self._tf1:\n",
        "            self._varn = None\n",
        "            self._is_create_slots = None\n",
        "            self._curr_var = None\n",
        "\n",
        "    def _assign(self,x,y):\n",
        "        if self._tf1:\n",
        "            result = K.update(x,y)\n",
        "        else:\n",
        "            result = state_ops.assign(x,y,use_locking=self._use_locking)\n",
        "        self._updates.append(result)\n",
        "        return result\n",
        "\n",
        "    def _add(self,x,y):\n",
        "        if self._tf1:\n",
        "            result = K.update_add(x,y)\n",
        "        else:\n",
        "            result = state_ops.assign_add(x,y,use_locking=self._use_locking)\n",
        "        self._updates.append(result)\n",
        "        return result\n",
        "\n",
        "    def _moving_average(self,var,value,momentum):\n",
        "        if self._tf1:\n",
        "            return self._assign(var,var * momentum + value * (1 - momentum))\n",
        "        result = K.moving_average_update(var,value,momentum)\n",
        "        self._updates.append(result)\n",
        "        return result\n",
        "\n",
        "    # TODO: fix variables' names being too convoluted in _derivatives_normalizer and _get_updates_universal_impl\n",
        "    def _derivatives_normalizer(self,derivative,beta):\n",
        "        if self._tf1:\n",
        "            self._iterations = self._make_variable()\n",
        "            self._add(self._iterations,1)\n",
        "        t = K.cast(self._iterations if self._tf1 else self.iterations, K.floatx()) + 1\n",
        "        lr_t = K.sqrt(1. - K.pow(self._beta_1, t))\n",
        "        m = self._make_variable(0,K.int_shape(derivative),K.dtype(derivative))\n",
        "        old_moments = self._make_variable(0,K.int_shape(derivative),K.dtype(derivative))\n",
        "        old_moments2 = self._make_variable(0,K.int_shape(derivative),K.dtype(derivative))\n",
        "        res = self._assign(old_moments2,old_moments)\n",
        "        v_t = self._moving_average(m,K.square(derivative),self._beta_1)\n",
        "        with tf.control_dependencies([v_t]):\n",
        "            np_t = derivative * lr_t / (K.sqrt(v_t) + self._epsilon)\n",
        "        with tf.control_dependencies([np_t]):\n",
        "            m_t = self._moving_average(old_moments,np_t,beta)\n",
        "        return (res,np_t)\n",
        "\n",
        "    def _make_variable(self,value = 0,shape = (),dtype = K.floatx()):\n",
        "        if self._tf1:\n",
        "            return K.variable(K.constant(value,shape=shape, dtype=dtype))\n",
        "        self._varn += 1\n",
        "        name = 'unnamed_variable' + str(self._varn)\n",
        "        if self._is_create_slots:\n",
        "            return self.add_slot(self._curr_var,name,initializer = K.constant(value,shape=shape, dtype=dtype))\n",
        "        else:\n",
        "            return self.get_slot(self._curr_var,name)\n",
        "\n",
        "    def _get_updates_universal_impl(self, grad, param):\n",
        "        self._updates = []\n",
        "        lr = self._make_variable(value = self._lr,shape=K.int_shape(param)[:-1], dtype=K.dtype(param))\n",
        "        moment, deriv = self._derivatives_normalizer(grad,self._beta_3)\n",
        "        param_t = self._add(param, - K.expand_dims(lr,len(K.int_shape(param)) - 1) * deriv)\n",
        "        with tf.control_dependencies([moment]):\n",
        "            lr_deriv = math_ops.reduce_sum(moment * grad,len(K.int_shape(param)) - 1)\n",
        "        master_lr = self._make_variable(self._lr2)\n",
        "        m2,d2 = self._derivatives_normalizer(lr_deriv,self._beta_2)\n",
        "        lr_t = self._add(lr,master_lr * lr * d2)\n",
        "        with tf.control_dependencies([m2]):\n",
        "            master_lr_deriv2 = math_ops.reduce_sum(m2 * lr_deriv)\n",
        "        m3,d3 = self._derivatives_normalizer(master_lr_deriv2,0.)\n",
        "        with tf.control_dependencies([m3]):\n",
        "            self._add(master_lr,self._lr3 * master_lr * d3)\n",
        "        return self._updates\n",
        "\n",
        "    def _get_updates_universal(self, param, grad = None, is_create_slots = False):\n",
        "        self._curr_var = param\n",
        "        self._is_create_slots = is_create_slots\n",
        "        self._varn = 0\n",
        "        return self._get_updates_universal_impl(grad if grad is not None else K.constant(0,shape=param.shape,dtype=K.dtype(param)),param)\n",
        "\n",
        "    def get_updates(self, loss, params):\n",
        "        return sum([self._get_updates_universal_impl(grad,var) for (grad,var) in zip(self.get_gradients(loss, params),params)],[])\n",
        "\n",
        "    def _create_slots(self, var_list):\n",
        "        for var in var_list:\n",
        "            self._get_updates_universal(var,is_create_slots = True)\n",
        "\n",
        "    def _resource_apply_dense(self, grad, var):\n",
        "        return control_flow_ops.group(*self._get_updates_universal(var,grad))\n",
        "\n",
        "    def get_config(self):\n",
        "        config = {\n",
        "            'lr': float(self._lr),\n",
        "            'lr2': float(self._lr2),\n",
        "            'lr3': float(self._lr3),\n",
        "            'beta_1': float(K.get_value(self._beta_1)),\n",
        "            'beta_2': float(K.get_value(self._beta_2)),\n",
        "            'beta_3': float(K.get_value(self._beta_3)),\n",
        "            'epsilon': self._epsilon\n",
        "        }\n",
        "        base_config = super(AdasOptimizer, self).get_config()\n",
        "        return dict(list(base_config.items()) + list(config.items()))"
      ],
      "execution_count": 27,
      "outputs": [
        {
          "output_type": "stream",
          "text": [
            "time: 177 ms (started: 2021-03-21 07:02:07 +00:00)\n"
          ],
          "name": "stdout"
        }
      ]
    },
    {
      "cell_type": "code",
      "metadata": {
        "colab": {
          "base_uri": "https://localhost:8080/"
        },
        "id": "fPnTXzT8bgnY",
        "outputId": "56f3fff5-d42b-46ad-b721-4d78af70d78d"
      },
      "source": [
        "fashion_mnist = tf.keras.datasets.fashion_mnist\n",
        "\n",
        "(train_images, train_labels), (test_images, test_labels) = fashion_mnist.load_data()"
      ],
      "execution_count": 41,
      "outputs": [
        {
          "output_type": "stream",
          "text": [
            "time: 370 ms (started: 2021-03-21 07:06:57 +00:00)\n"
          ],
          "name": "stdout"
        }
      ]
    },
    {
      "cell_type": "code",
      "metadata": {
        "id": "fPKSB2Y8biuU",
        "outputId": "f54975d7-faac-4031-99e1-c8b6fc5e2a2b",
        "colab": {
          "base_uri": "https://localhost:8080/"
        }
      },
      "source": [
        "train_images = train_images #/ 255.0\n",
        "test_images = test_images #/ 255.0"
      ],
      "execution_count": 47,
      "outputs": [
        {
          "output_type": "stream",
          "text": [
            "time: 1.06 ms (started: 2021-03-21 07:08:48 +00:00)\n"
          ],
          "name": "stdout"
        }
      ]
    },
    {
      "cell_type": "code",
      "metadata": {
        "id": "oeV-3JUSbl1y",
        "outputId": "c0750ca8-cfb7-4815-ad37-67519789254f",
        "colab": {
          "base_uri": "https://localhost:8080/"
        }
      },
      "source": [
        "model = tf.keras.Sequential([\n",
        "    tf.keras.layers.Flatten(input_shape=(28, 28)),\n",
        "    tf.keras.layers.Dense(128, activation='relu'),\n",
        "    #tf.keras.layers.Dense(16, activation='relu'),\n",
        "    tf.keras.layers.Dense(10,activation='softmax')\n",
        "])"
      ],
      "execution_count": 54,
      "outputs": [
        {
          "output_type": "stream",
          "text": [
            "time: 36.4 ms (started: 2021-03-21 07:13:48 +00:00)\n"
          ],
          "name": "stdout"
        }
      ]
    },
    {
      "cell_type": "code",
      "metadata": {
        "colab": {
          "base_uri": "https://localhost:8080/"
        },
        "id": "1gJvYXplbwB0",
        "outputId": "4559075f-45a1-4a5f-878f-1771f9348373"
      },
      "source": [
        "model.compile(optimizer='adam',\n",
        "              loss=tf.keras.losses.SparseCategoricalCrossentropy(from_logits=True),\n",
        "              metrics=['accuracy'])"
      ],
      "execution_count": 55,
      "outputs": [
        {
          "output_type": "stream",
          "text": [
            "time: 15.7 ms (started: 2021-03-21 07:13:53 +00:00)\n"
          ],
          "name": "stdout"
        }
      ]
    },
    {
      "cell_type": "code",
      "metadata": {
        "colab": {
          "base_uri": "https://localhost:8080/"
        },
        "id": "LBAA-qG7bxsA",
        "outputId": "6bbab6de-b034-490c-c0ab-05b22fad0ed9"
      },
      "source": [
        "model.fit(train_images, train_labels, epochs=30)"
      ],
      "execution_count": 58,
      "outputs": [
        {
          "output_type": "stream",
          "text": [
            "Epoch 1/30\n",
            "1875/1875 [==============================] - 3s 2ms/step - loss: 0.1599 - accuracy: 0.9403\n",
            "Epoch 2/30\n",
            "1875/1875 [==============================] - 3s 2ms/step - loss: 0.1552 - accuracy: 0.9413\n",
            "Epoch 3/30\n",
            "1875/1875 [==============================] - 3s 2ms/step - loss: 0.1537 - accuracy: 0.9418\n",
            "Epoch 4/30\n",
            "1875/1875 [==============================] - 3s 2ms/step - loss: 0.1491 - accuracy: 0.9439\n",
            "Epoch 5/30\n",
            "1875/1875 [==============================] - 3s 2ms/step - loss: 0.1458 - accuracy: 0.9451\n",
            "Epoch 6/30\n",
            "1875/1875 [==============================] - 3s 2ms/step - loss: 0.1422 - accuracy: 0.9475\n",
            "Epoch 7/30\n",
            "1875/1875 [==============================] - 3s 2ms/step - loss: 0.1412 - accuracy: 0.9472\n",
            "Epoch 8/30\n",
            "1875/1875 [==============================] - 3s 2ms/step - loss: 0.1364 - accuracy: 0.9491\n",
            "Epoch 9/30\n",
            "1875/1875 [==============================] - 3s 2ms/step - loss: 0.1334 - accuracy: 0.9497\n",
            "Epoch 10/30\n",
            "1875/1875 [==============================] - 3s 2ms/step - loss: 0.1317 - accuracy: 0.9501\n",
            "Epoch 11/30\n",
            "1875/1875 [==============================] - 3s 2ms/step - loss: 0.1292 - accuracy: 0.9512\n",
            "Epoch 12/30\n",
            "1875/1875 [==============================] - 3s 2ms/step - loss: 0.1272 - accuracy: 0.9520\n",
            "Epoch 13/30\n",
            "1875/1875 [==============================] - 3s 2ms/step - loss: 0.1245 - accuracy: 0.9523\n",
            "Epoch 14/30\n",
            "1875/1875 [==============================] - 3s 2ms/step - loss: 0.1199 - accuracy: 0.9554\n",
            "Epoch 15/30\n",
            "1875/1875 [==============================] - 3s 2ms/step - loss: 0.1184 - accuracy: 0.9554\n",
            "Epoch 16/30\n",
            "1875/1875 [==============================] - 3s 2ms/step - loss: 0.1175 - accuracy: 0.9557\n",
            "Epoch 17/30\n",
            "1875/1875 [==============================] - 3s 2ms/step - loss: 0.1148 - accuracy: 0.9563\n",
            "Epoch 18/30\n",
            "1875/1875 [==============================] - 3s 2ms/step - loss: 0.1162 - accuracy: 0.9570\n",
            "Epoch 19/30\n",
            "1875/1875 [==============================] - 3s 2ms/step - loss: 0.1107 - accuracy: 0.9581\n",
            "Epoch 20/30\n",
            "1875/1875 [==============================] - 3s 2ms/step - loss: 0.1070 - accuracy: 0.9592\n",
            "Epoch 21/30\n",
            "1875/1875 [==============================] - 3s 2ms/step - loss: 0.1080 - accuracy: 0.9597\n",
            "Epoch 22/30\n",
            "1875/1875 [==============================] - 3s 2ms/step - loss: 0.1050 - accuracy: 0.9606\n",
            "Epoch 23/30\n",
            "1875/1875 [==============================] - 3s 2ms/step - loss: 0.1055 - accuracy: 0.9611\n",
            "Epoch 24/30\n",
            "1875/1875 [==============================] - 3s 2ms/step - loss: 0.1037 - accuracy: 0.9610\n",
            "Epoch 25/30\n",
            "1875/1875 [==============================] - 3s 2ms/step - loss: 0.1011 - accuracy: 0.9614\n",
            "Epoch 26/30\n",
            "1875/1875 [==============================] - 3s 2ms/step - loss: 0.0979 - accuracy: 0.9635\n",
            "Epoch 27/30\n",
            "1875/1875 [==============================] - 3s 2ms/step - loss: 0.0962 - accuracy: 0.9637\n",
            "Epoch 28/30\n",
            "1875/1875 [==============================] - 3s 2ms/step - loss: 0.0962 - accuracy: 0.9635\n",
            "Epoch 29/30\n",
            "1875/1875 [==============================] - 3s 2ms/step - loss: 0.0937 - accuracy: 0.9652\n",
            "Epoch 30/30\n",
            "1875/1875 [==============================] - 3s 2ms/step - loss: 0.0926 - accuracy: 0.9643\n"
          ],
          "name": "stdout"
        },
        {
          "output_type": "execute_result",
          "data": {
            "text/plain": [
              "<tensorflow.python.keras.callbacks.History at 0x7f7f48310510>"
            ]
          },
          "metadata": {
            "tags": []
          },
          "execution_count": 58
        },
        {
          "output_type": "stream",
          "text": [
            "time: 1min 30s (started: 2021-03-21 07:15:26 +00:00)\n"
          ],
          "name": "stdout"
        }
      ]
    },
    {
      "cell_type": "code",
      "metadata": {
        "colab": {
          "base_uri": "https://localhost:8080/"
        },
        "id": "TDPyn-mkbzU-",
        "outputId": "9322e59b-be4b-4496-a088-bf8a741ee3b8"
      },
      "source": [
        "model.save(\"mymodel.h5\")"
      ],
      "execution_count": 59,
      "outputs": [
        {
          "output_type": "stream",
          "text": [
            "time: 21.9 ms (started: 2021-03-21 07:16:59 +00:00)\n"
          ],
          "name": "stdout"
        }
      ]
    },
    {
      "cell_type": "code",
      "metadata": {
        "colab": {
          "background_save": true
        },
        "id": "4R3pt3XyohKN"
      },
      "source": [
        ""
      ],
      "execution_count": null,
      "outputs": []
    }
  ]
}